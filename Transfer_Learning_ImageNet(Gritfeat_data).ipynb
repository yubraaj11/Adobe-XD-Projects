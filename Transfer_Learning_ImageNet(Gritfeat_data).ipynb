{
  "cells": [
    {
      "cell_type": "markdown",
      "metadata": {
        "id": "view-in-github",
        "colab_type": "text"
      },
      "source": [
        "<a href=\"https://colab.research.google.com/github/yubraaj11/Adobe-XD-Projects/blob/main/Transfer_Learning_ImageNet(Gritfeat_data).ipynb\" target=\"_parent\"><img src=\"https://colab.research.google.com/assets/colab-badge.svg\" alt=\"Open In Colab\"/></a>"
      ]
    },
    {
      "cell_type": "code",
      "execution_count": null,
      "metadata": {
        "colab": {
          "base_uri": "https://localhost:8080/"
        },
        "id": "sjiqIK8MyhVV",
        "outputId": "10298029-69fc-4e0f-b943-ba4106699bd4"
      },
      "outputs": [
        {
          "name": "stdout",
          "output_type": "stream",
          "text": [
            "Mounted at /content/drive\n"
          ]
        }
      ],
      "source": [
        "from google.colab import drive\n",
        "drive.mount('/content/drive')"
      ]
    },
    {
      "cell_type": "code",
      "execution_count": null,
      "metadata": {
        "id": "gVKHCw1w5VZy"
      },
      "outputs": [],
      "source": [
        "import os\n",
        "import torch\n",
        "import torch.nn as nn\n",
        "import torch.optim as optim\n",
        "from torchvision import datasets, models, transforms\n",
        "from torch.utils.data import DataLoader\n",
        "from sklearn.model_selection import train_test_split"
      ]
    },
    {
      "cell_type": "code",
      "execution_count": null,
      "metadata": {
        "id": "S-rJ758x6e7S"
      },
      "outputs": [],
      "source": [
        "dataset_dir = \"/content/drive/MyDrive/images\""
      ]
    },
    {
      "cell_type": "code",
      "execution_count": null,
      "metadata": {
        "id": "kouYDCwW6j-6"
      },
      "outputs": [],
      "source": [
        "num_classes = len(os.listdir(dataset_dir))\n",
        "batch_size = 32\n",
        "num_epochs = 10"
      ]
    },
    {
      "cell_type": "code",
      "execution_count": null,
      "metadata": {
        "colab": {
          "base_uri": "https://localhost:8080/"
        },
        "id": "Uo16N0lz63hR",
        "outputId": "faaf3ae8-104f-4dad-8801-586564bdc89a"
      },
      "outputs": [
        {
          "data": {
            "text/plain": [
              "5"
            ]
          },
          "execution_count": 7,
          "metadata": {},
          "output_type": "execute_result"
        }
      ],
      "source": [
        "num_classes"
      ]
    },
    {
      "cell_type": "code",
      "execution_count": null,
      "metadata": {
        "id": "AOyJpCVC6rJA"
      },
      "outputs": [],
      "source": [
        "data_transforms = {\n",
        "    'train': transforms.Compose([\n",
        "        transforms.RandomResizedCrop(224),\n",
        "        transforms.RandomHorizontalFlip(),\n",
        "        transforms.ToTensor(),\n",
        "        transforms.Normalize([0.485, 0.456, 0.406], [0.229, 0.224, 0.225])\n",
        "    ]),\n",
        "    'val': transforms.Compose([\n",
        "        transforms.Resize(256),\n",
        "        transforms.CenterCrop(224),\n",
        "        transforms.ToTensor(),\n",
        "        transforms.Normalize([0.485, 0.456, 0.406], [0.229, 0.224, 0.225])\n",
        "    ]),\n",
        "}"
      ]
    },
    {
      "cell_type": "code",
      "execution_count": null,
      "metadata": {
        "id": "ury6mhx-6wC8"
      },
      "outputs": [],
      "source": [
        "dataset = datasets.ImageFolder(dataset_dir, transform=data_transforms['train'])"
      ]
    },
    {
      "cell_type": "code",
      "execution_count": null,
      "metadata": {
        "id": "1cbAa1Bc65vF"
      },
      "outputs": [],
      "source": [
        "train_indices, test_indices = train_test_split(list(range(len(dataset))),\n",
        "                                               test_size=0.2,\n",
        "                                               random_state=42,\n",
        "                                               stratify=dataset.targets)"
      ]
    },
    {
      "cell_type": "code",
      "execution_count": null,
      "metadata": {
        "id": "djOCvd5Q67Ys"
      },
      "outputs": [],
      "source": [
        "train_dataset = torch.utils.data.Subset(dataset, train_indices)\n",
        "test_dataset = torch.utils.data.Subset(dataset, test_indices)"
      ]
    },
    {
      "cell_type": "code",
      "execution_count": null,
      "metadata": {
        "id": "e3_JfJoA69BB"
      },
      "outputs": [],
      "source": [
        "train_loader = DataLoader(train_dataset, batch_size=16, shuffle=True)\n",
        "test_loader = DataLoader(test_dataset, batch_size=16, shuffle=False)"
      ]
    },
    {
      "cell_type": "code",
      "execution_count": null,
      "metadata": {
        "colab": {
          "base_uri": "https://localhost:8080/"
        },
        "id": "Mk8I4Thu6_fw",
        "outputId": "81eea757-f261-4fef-f6ea-90f9595f98d1"
      },
      "outputs": [
        {
          "name": "stderr",
          "output_type": "stream",
          "text": [
            "/usr/local/lib/python3.10/dist-packages/torchvision/models/_utils.py:208: UserWarning: The parameter 'pretrained' is deprecated since 0.13 and may be removed in the future, please use 'weights' instead.\n",
            "  warnings.warn(\n",
            "/usr/local/lib/python3.10/dist-packages/torchvision/models/_utils.py:223: UserWarning: Arguments other than a weight enum or `None` for 'weights' are deprecated since 0.13 and may be removed in the future. The current behavior is equivalent to passing `weights=ResNet18_Weights.IMAGENET1K_V1`. You can also use `weights=ResNet18_Weights.DEFAULT` to get the most up-to-date weights.\n",
            "  warnings.warn(msg)\n"
          ]
        }
      ],
      "source": [
        "model = models.resnet18(pretrained=True)\n",
        "num_ftrs = model.fc.in_features\n",
        "model.fc = nn.Linear(num_ftrs, num_classes)"
      ]
    },
    {
      "cell_type": "code",
      "execution_count": null,
      "metadata": {
        "id": "mgK1WU-87HWE"
      },
      "outputs": [],
      "source": [
        "criterion = nn.CrossEntropyLoss()\n",
        "optimizer = optim.SGD(model.parameters(), lr=0.001, momentum=0.9)"
      ]
    },
    {
      "cell_type": "code",
      "execution_count": null,
      "metadata": {
        "id": "iT3uf9d07NQL"
      },
      "outputs": [],
      "source": [
        "device = torch.device(\"cuda:0\" if torch.cuda.is_available() else \"cpu\")\n",
        "model = model.to(device)"
      ]
    },
    {
      "cell_type": "code",
      "execution_count": null,
      "metadata": {
        "colab": {
          "background_save": true,
          "base_uri": "https://localhost:8080/"
        },
        "id": "QLWQY2cv7Lo0",
        "outputId": "2c2dd430-e48c-4bd2-9dc8-0133a4e38abb"
      },
      "outputs": [
        {
          "name": "stdout",
          "output_type": "stream",
          "text": [
            "Epoch [1/10], Train Loss: 0.9995, Train Acc: 0.6270\n",
            "Epoch [1/10], Validation Loss: 0.7508, Validation Acc: 0.7480\n",
            "Epoch [2/10], Train Loss: 0.7383, Train Acc: 0.7550\n",
            "Epoch [2/10], Validation Loss: 0.7050, Validation Acc: 0.7700\n",
            "Epoch [3/10], Train Loss: 0.6673, Train Acc: 0.7685\n",
            "Epoch [3/10], Validation Loss: 0.6271, Validation Acc: 0.7860\n",
            "Epoch [4/10], Train Loss: 0.6442, Train Acc: 0.7770\n",
            "Epoch [4/10], Validation Loss: 0.6529, Validation Acc: 0.7560\n",
            "Epoch [5/10], Train Loss: 0.6174, Train Acc: 0.7935\n",
            "Epoch [5/10], Validation Loss: 0.5232, Validation Acc: 0.8140\n",
            "Epoch [6/10], Train Loss: 0.6124, Train Acc: 0.7885\n",
            "Epoch [6/10], Validation Loss: 0.5355, Validation Acc: 0.7940\n",
            "Epoch [7/10], Train Loss: 0.5614, Train Acc: 0.8055\n",
            "Epoch [7/10], Validation Loss: 0.5406, Validation Acc: 0.8200\n",
            "Epoch [8/10], Train Loss: 0.5615, Train Acc: 0.8055\n",
            "Epoch [8/10], Validation Loss: 0.4980, Validation Acc: 0.8220\n",
            "Epoch [9/10], Train Loss: 0.5660, Train Acc: 0.8005\n",
            "Epoch [9/10], Validation Loss: 0.5079, Validation Acc: 0.8220\n",
            "Epoch [10/10], Train Loss: 0.5128, Train Acc: 0.8265\n",
            "Epoch [10/10], Validation Loss: 0.5589, Validation Acc: 0.7920\n"
          ]
        }
      ],
      "source": [
        "for epoch in range(num_epochs):\n",
        "    # Training phase\n",
        "    model.train()\n",
        "    running_loss = 0.0\n",
        "    running_corrects = 0\n",
        "    total_samples = 0\n",
        "\n",
        "    for inputs, labels in train_loader:\n",
        "        inputs = inputs.to(device)\n",
        "        labels = labels.to(device)\n",
        "\n",
        "        optimizer.zero_grad()\n",
        "\n",
        "        outputs = model(inputs)\n",
        "        _, preds = torch.max(outputs, 1)\n",
        "        loss = criterion(outputs, labels)\n",
        "\n",
        "        loss.backward()\n",
        "        optimizer.step()\n",
        "\n",
        "        running_loss += loss.item() * inputs.size(0)\n",
        "        running_corrects += torch.sum(preds == labels.data)\n",
        "        total_samples += labels.size(0)\n",
        "\n",
        "    epoch_train_loss = running_loss / total_samples\n",
        "    epoch_train_acc = running_corrects.double() / total_samples\n",
        "\n",
        "    print('Epoch [{}/{}], Train Loss: {:.4f}, Train Acc: {:.4f}'\n",
        "          .format(epoch+1, num_epochs, epoch_train_loss, epoch_train_acc))\n",
        "\n",
        "    # Validation phase\n",
        "    model.eval()\n",
        "    running_loss = 0.0\n",
        "    running_corrects = 0\n",
        "    total_samples = 0\n",
        "\n",
        "    for inputs, labels in test_loader:\n",
        "        inputs = inputs.to(device)\n",
        "        labels = labels.to(device)\n",
        "\n",
        "        outputs = model(inputs)\n",
        "        _, preds = torch.max(outputs, 1)\n",
        "        loss = criterion(outputs, labels)\n",
        "\n",
        "        running_loss += loss.item() * inputs.size(0)\n",
        "        running_corrects += torch.sum(preds == labels.data)\n",
        "        total_samples += labels.size(0)\n",
        "\n",
        "    epoch_val_loss = running_loss / total_samples\n",
        "    epoch_val_acc = running_corrects.double() / total_samples\n",
        "\n",
        "    print('Epoch [{}/{}], Validation Loss: {:.4f}, Validation Acc: {:.4f}'\n",
        "          .format(epoch+1, num_epochs, epoch_val_loss, epoch_val_acc))\n"
      ]
    },
    {
      "cell_type": "code",
      "source": [
        "torch.save(model.state_dict(), 'model_weights.pth')"
      ],
      "metadata": {
        "id": "T2PBHkSnB1EZ"
      },
      "execution_count": 22,
      "outputs": []
    },
    {
      "cell_type": "code",
      "execution_count": 28,
      "metadata": {
        "id": "evHc6OVS7SzF",
        "colab": {
          "base_uri": "https://localhost:8080/"
        },
        "outputId": "10afeac4-3c5d-46a4-c63b-43da03b8393e"
      },
      "outputs": [
        {
          "output_type": "stream",
          "name": "stdout",
          "text": [
            "The predicted class for the new image is: class 4\n"
          ]
        }
      ],
      "source": [
        "import torch\n",
        "import torch.nn as nn\n",
        "from torchvision import models, transforms\n",
        "from PIL import Image\n",
        "\n",
        "# Define class labels (replace with your actual class labels)\n",
        "class_labels = ['class 0', 'class 2', 'class 4', 'class 6', 'class 9']\n",
        "\n",
        "# Load the trained model\n",
        "model = models.resnet18(pretrained=False)  # Assuming you have already trained and saved the model\n",
        "num_ftrs = model.fc.in_features\n",
        "model.fc = nn.Linear(num_ftrs, len(class_labels))  # Adjusting the number of output classes\n",
        "\n",
        "# Load the trained model weights\n",
        "model.load_state_dict(torch.load('model_weights.pth', map_location=torch.device('cpu')))  # Load saved model weights\n",
        "\n",
        "# Set the model to evaluation mode\n",
        "model.eval()\n",
        "\n",
        "# Define image transformation\n",
        "data_transform = transforms.Compose([\n",
        "    transforms.Resize(256),\n",
        "    transforms.CenterCrop(224),\n",
        "    transforms.ToTensor(),\n",
        "    transforms.Normalize(mean=[0.485, 0.456, 0.406], std=[0.229, 0.224, 0.225]),\n",
        "])\n",
        "\n",
        "# Load and preprocess the new image\n",
        "image_path = '/content/drive/MyDrive/images/2/036ed50c-b647-40a9-bbbd-92b2037e4660.TIF'\n",
        "image = Image.open(image_path)\n",
        "image = image.convert(\"RGB\")\n",
        "image_tensor = data_transform(image).unsqueeze(0)  # Add batch dimension\n",
        "\n",
        "# Perform inference\n",
        "with torch.no_grad():\n",
        "    outputs = model(image_tensor)\n",
        "    _, predicted = torch.max(outputs, 1)\n",
        "    predicted_class = class_labels[predicted.item()]\n",
        "\n",
        "print(f\"The predicted class for the new image is: {predicted_class}\")\n"
      ]
    },
    {
      "cell_type": "code",
      "source": [],
      "metadata": {
        "id": "KdUdzRyKBzGd"
      },
      "execution_count": null,
      "outputs": []
    }
  ],
  "metadata": {
    "accelerator": "GPU",
    "colab": {
      "gpuType": "T4",
      "provenance": [],
      "authorship_tag": "ABX9TyPXmXoZyR7kRq+F7exeDLHg",
      "include_colab_link": true
    },
    "kernelspec": {
      "display_name": "Python 3",
      "name": "python3"
    },
    "language_info": {
      "name": "python"
    }
  },
  "nbformat": 4,
  "nbformat_minor": 0
}